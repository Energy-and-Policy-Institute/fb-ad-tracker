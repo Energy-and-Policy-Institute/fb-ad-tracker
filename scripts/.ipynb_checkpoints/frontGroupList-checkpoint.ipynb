{
 "cells": [
  {
   "cell_type": "markdown",
   "id": "f65b6be5",
   "metadata": {},
   "source": [
    "### Add information to the Front Groups Data"
   ]
  },
  {
   "cell_type": "code",
   "execution_count": 6,
   "id": "755b58be",
   "metadata": {},
   "outputs": [],
   "source": [
    "# import libraries\n",
    "import pandas as pd\n",
    "import json"
   ]
  },
  {
   "cell_type": "markdown",
   "id": "5fbb6a0f",
   "metadata": {},
   "source": [
    "### Create Dictionary"
   ]
  },
  {
   "cell_type": "code",
   "execution_count": 2,
   "id": "c20071f0",
   "metadata": {},
   "outputs": [],
   "source": [
    "pageDict = {\n",
    "    'Affordable Energy Coalition':'106039214814684',\n",
    "    'Affordable Energy for New Jersey':'102281724942742',\n",
    "    'Alliance for Michigan Power':'738063612887865',\n",
    "    \"Citizens Energizing Michigan's Economy\":'591566840920364',\n",
    "    \"Consumer Energy Alliance\":'49560242814',\n",
    "    \"The Empowerment Alliance\":'101691091213750',\n",
    "    \"Energy Citizens\":'113891694102',\n",
    "    \"Natural Allies for a Clean Energy Future\":'100801038449520',\n",
    "    \"New Yorkers For Affordable Energy\":'111394533709201',\n",
    "    \"Partnership for Energy Progress\":'107500120800840',\n",
    "    \"Seniors Across America\":'108203188195224',\n",
    "    \"Voices for Cooperative Power\":'47710973068',\n",
    "    \"We Stand For Energy\":'482100658584410',\n",
    "    \"Jobkeeper Alliance\":'292970844058835',\n",
    "    \"Power for Tomorrow\":'101242238726088',\n",
    "    \"Californians for Balanced Energy Solutions\":'341751646428117',\n",
    "    \"SC Clean Energy For All\":'396341921119746',\n",
    "    \"Real Coalition Iowa\":'237209147160346'\n",
    "}"
   ]
  },
  {
   "cell_type": "code",
   "execution_count": 3,
   "id": "9816ebe3",
   "metadata": {},
   "outputs": [],
   "source": [
    "linkDict = {\n",
    "    'Affordable Energy Coalition':\"https://www.energyandpolicy.org/affordable-energy-coalition/\",\n",
    "    'Affordable Energy for New Jersey':\"https://inquisitive-tiramisu-742d79.netlify.app/404\",\n",
    "    'Alliance for Michigan Power':\"https://www.energyandpolicy.org/alliance-for-michigan-power/\",\n",
    "    \"Citizens Energizing Michigan's Economy\":\"https://www.energyandpolicy.org/citizens-for-energizing-michigans-economy/\",\n",
    "    \"Consumer Energy Alliance\":\"https://www.energyandpolicy.org/consumer-energy-alliance/\",\n",
    "    \"The Empowerment Alliance\":\"https://inquisitive-tiramisu-742d79.netlify.app/404\",\n",
    "    \"Energy Citizens\":\"https://inquisitive-tiramisu-742d79.netlify.app/404\",\n",
    "    \"Natural Allies for a Clean Energy Future\":\"https://www.energyandpolicy.org/natural-allies-for-a-clean-energy-future/\",\n",
    "    \"New Yorkers For Affordable Energy\":\"https://inquisitive-tiramisu-742d79.netlify.app/404\",\n",
    "    \"Partnership for Energy Progress\":\"https://www.energyandpolicy.org/partnership-for-energy-progress/\",\n",
    "    \"Seniors Across America\":\"https://inquisitive-tiramisu-742d79.netlify.app/404\",\n",
    "    \"Voices for Cooperative Power\":\"https://inquisitive-tiramisu-742d79.netlify.app/404\",\n",
    "    \"We Stand For Energy\":\"https://inquisitive-tiramisu-742d79.netlify.app/404\",\n",
    "    \"Jobkeeper Alliance\":'https://www.energyandpolicy.org/jobkeeper-alliance/',\n",
    "    \"Power for Tomorrow\":'https://www.energyandpolicy.org/power-for-tomorrow/',\n",
    "    \"Californians for Balanced Energy Solutions\":'https://www.energyandpolicy.org/californians-for-balanced-energy-solutions/',\n",
    "    \"SC Clean Energy For All\":\"https://inquisitive-tiramisu-742d79.netlify.app/404\",\n",
    "    \"Real Coalition Iowa\":\"https://www.energyandpolicy.org/midamerican-and-anti-solar-real-coalition/\",\n",
    "}"
   ]
  },
  {
   "cell_type": "markdown",
   "id": "5f193725",
   "metadata": {},
   "source": [
    "### Read In Summary Table Data"
   ]
  },
  {
   "cell_type": "code",
   "execution_count": 7,
   "id": "4364f0a0",
   "metadata": {},
   "outputs": [],
   "source": [
    "df = pd.read_json(\"../data/summary.json\")"
   ]
  },
  {
   "cell_type": "markdown",
   "id": "37333883",
   "metadata": {},
   "source": [
    "### Add Columns: url & pageId"
   ]
  },
  {
   "cell_type": "code",
   "execution_count": 3,
   "id": "66324da7",
   "metadata": {},
   "outputs": [
    {
     "ename": "NameError",
     "evalue": "name 'linkDict' is not defined",
     "output_type": "error",
     "traceback": [
      "\u001b[0;31m---------------------------------------------------------------------------\u001b[0m",
      "\u001b[0;31mNameError\u001b[0m                                 Traceback (most recent call last)",
      "\u001b[0;32m/var/folders/hl/5vgjw5l925q71n0d_fv_g5rh0000gn/T/ipykernel_44646/513994034.py\u001b[0m in \u001b[0;36m<module>\u001b[0;34m\u001b[0m\n\u001b[0;32m----> 1\u001b[0;31m \u001b[0mdf\u001b[0m\u001b[0;34m[\u001b[0m\u001b[0;34m'url'\u001b[0m\u001b[0;34m]\u001b[0m \u001b[0;34m=\u001b[0m \u001b[0mdf\u001b[0m\u001b[0;34m[\u001b[0m\u001b[0;34m'name'\u001b[0m\u001b[0;34m]\u001b[0m\u001b[0;34m.\u001b[0m\u001b[0mmap\u001b[0m\u001b[0;34m(\u001b[0m\u001b[0mlinkDict\u001b[0m\u001b[0;34m)\u001b[0m\u001b[0;34m\u001b[0m\u001b[0;34m\u001b[0m\u001b[0m\n\u001b[0m",
      "\u001b[0;31mNameError\u001b[0m: name 'linkDict' is not defined"
     ]
    }
   ],
   "source": [
    "df['url'] = df['name'].map(linkDict)"
   ]
  },
  {
   "cell_type": "code",
   "execution_count": 7,
   "id": "219f7a00",
   "metadata": {},
   "outputs": [],
   "source": [
    "df['pageId'] = df['name'].map(pageDict)"
   ]
  },
  {
   "cell_type": "code",
   "execution_count": 8,
   "id": "77c6f8fd",
   "metadata": {},
   "outputs": [],
   "source": [
    "df['pageId'] = df['pageId'].astype(int)"
   ]
  },
  {
   "cell_type": "code",
   "execution_count": 11,
   "id": "0dabdcc6",
   "metadata": {},
   "outputs": [
    {
     "data": {
      "text/plain": [
       "4132300"
      ]
     },
     "execution_count": 11,
     "metadata": {},
     "output_type": "execute_result"
    }
   ],
   "source": [
    "df['upperAmount'].sum()"
   ]
  },
  {
   "cell_type": "markdown",
   "id": "8c314ab4",
   "metadata": {},
   "source": [
    "### Export to JSON"
   ]
  },
  {
   "cell_type": "code",
   "execution_count": 10,
   "id": "580e9712",
   "metadata": {},
   "outputs": [],
   "source": [
    "# storing data in JSON format\n",
    "df.to_json('../data/summaryClean.json', orient = 'records')"
   ]
  },
  {
   "cell_type": "code",
   "execution_count": null,
   "id": "3a52033b",
   "metadata": {},
   "outputs": [],
   "source": []
  }
 ],
 "metadata": {
  "kernelspec": {
   "display_name": "Python 3 (ipykernel)",
   "language": "python",
   "name": "python3"
  },
  "language_info": {
   "codemirror_mode": {
    "name": "ipython",
    "version": 3
   },
   "file_extension": ".py",
   "mimetype": "text/x-python",
   "name": "python",
   "nbconvert_exporter": "python",
   "pygments_lexer": "ipython3",
   "version": "3.8.12"
  }
 },
 "nbformat": 4,
 "nbformat_minor": 5
}
